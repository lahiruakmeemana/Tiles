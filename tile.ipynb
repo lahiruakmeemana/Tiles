{
  "nbformat": 4,
  "nbformat_minor": 0,
  "metadata": {
    "colab": {
      "name": "tile.ipynb",
      "provenance": [],
      "collapsed_sections": []
    },
    "kernelspec": {
      "name": "python3",
      "display_name": "Python 3"
    },
    "language_info": {
      "name": "python"
    }
  },
  "cells": [
    {
      "cell_type": "code",
      "metadata": {
        "id": "_d-3D_DdRIeG"
      },
      "source": [
        "import numpy as np\n",
        "import pandas as pd\n",
        "\n",
        "import tensorflow as tf\n",
        "\n",
        "from tensorflow import feature_column\n",
        "from tensorflow import keras\n",
        "from tensorflow.keras import layers\n",
        "from keras.utils import np_utils\n",
        "from sklearn.model_selection import train_test_split\n",
        "from sklearn.preprocessing import OneHotEncoder,LabelEncoder,MinMaxScaler\n",
        "import seaborn as sns\n",
        "import matplotlib.pyplot as plt"
      ],
      "execution_count": 1,
      "outputs": []
    },
    {
      "cell_type": "code",
      "metadata": {
        "id": "31UuKizaRb3l",
        "colab": {
          "base_uri": "https://localhost:8080/",
          "height": 195
        },
        "outputId": "b51310ec-56cb-4123-dbf9-5759afb3c830"
      },
      "source": [
        "data = pd.read_csv('data.csv')\n",
        "price = data.pop('Tile_Price')\n",
        "data['Tile_Price'] = price \n",
        "data.head()"
      ],
      "execution_count": 2,
      "outputs": [
        {
          "output_type": "execute_result",
          "data": {
            "text/html": [
              "<div>\n",
              "<style scoped>\n",
              "    .dataframe tbody tr th:only-of-type {\n",
              "        vertical-align: middle;\n",
              "    }\n",
              "\n",
              "    .dataframe tbody tr th {\n",
              "        vertical-align: top;\n",
              "    }\n",
              "\n",
              "    .dataframe thead th {\n",
              "        text-align: right;\n",
              "    }\n",
              "</style>\n",
              "<table border=\"1\" class=\"dataframe\">\n",
              "  <thead>\n",
              "    <tr style=\"text-align: right;\">\n",
              "      <th></th>\n",
              "      <th>Tile_Name</th>\n",
              "      <th>Tile_Color</th>\n",
              "      <th>Tile_Size</th>\n",
              "      <th>Room_Type</th>\n",
              "      <th>Room_Color</th>\n",
              "      <th>Tile_type</th>\n",
              "      <th>Finish_Type</th>\n",
              "      <th>Tile_Price</th>\n",
              "    </tr>\n",
              "  </thead>\n",
              "  <tbody>\n",
              "    <tr>\n",
              "      <th>0</th>\n",
              "      <td>Amberese</td>\n",
              "      <td>Rose</td>\n",
              "      <td>300 x 300 mm</td>\n",
              "      <td>Bedroom</td>\n",
              "      <td>Rose</td>\n",
              "      <td>Fully Vitrified Full Body Porcelain</td>\n",
              "      <td>Anti Slip</td>\n",
              "      <td>230</td>\n",
              "    </tr>\n",
              "    <tr>\n",
              "      <th>1</th>\n",
              "      <td>Amberese</td>\n",
              "      <td>Red</td>\n",
              "      <td>300 x 300 mm</td>\n",
              "      <td>Bedroom</td>\n",
              "      <td>Red</td>\n",
              "      <td>Fully Vitrified Full Body Porcelain</td>\n",
              "      <td>Anti Slip</td>\n",
              "      <td>237</td>\n",
              "    </tr>\n",
              "    <tr>\n",
              "      <th>2</th>\n",
              "      <td>Amberese</td>\n",
              "      <td>Brown</td>\n",
              "      <td>300 x 300 mm</td>\n",
              "      <td>Bedroom</td>\n",
              "      <td>Brown</td>\n",
              "      <td>Fully Vitrified Full Body Porcelain</td>\n",
              "      <td>Anti Slip</td>\n",
              "      <td>237</td>\n",
              "    </tr>\n",
              "    <tr>\n",
              "      <th>3</th>\n",
              "      <td>Amberese</td>\n",
              "      <td>Gray</td>\n",
              "      <td>300 x 300 mm</td>\n",
              "      <td>Bedroom</td>\n",
              "      <td>Gray</td>\n",
              "      <td>Fully Vitrified Full Body Porcelain</td>\n",
              "      <td>Anti Slip</td>\n",
              "      <td>155</td>\n",
              "    </tr>\n",
              "    <tr>\n",
              "      <th>4</th>\n",
              "      <td>Amberese</td>\n",
              "      <td>Piacentina Muschio Green</td>\n",
              "      <td>300 x 300 mm</td>\n",
              "      <td>Bedroom</td>\n",
              "      <td>Green</td>\n",
              "      <td>Porcelain Tile</td>\n",
              "      <td>Anti Slip</td>\n",
              "      <td>257</td>\n",
              "    </tr>\n",
              "  </tbody>\n",
              "</table>\n",
              "</div>"
            ],
            "text/plain": [
              "  Tile_Name                Tile_Color  ... Finish_Type Tile_Price\n",
              "0  Amberese                      Rose  ...   Anti Slip        230\n",
              "1  Amberese                       Red  ...   Anti Slip        237\n",
              "2  Amberese                     Brown  ...   Anti Slip        237\n",
              "3  Amberese                      Gray  ...   Anti Slip        155\n",
              "4  Amberese  Piacentina Muschio Green  ...   Anti Slip        257\n",
              "\n",
              "[5 rows x 8 columns]"
            ]
          },
          "metadata": {
            "tags": []
          },
          "execution_count": 2
        }
      ]
    },
    {
      "cell_type": "code",
      "metadata": {
        "id": "R9qoh2EmxrXs",
        "colab": {
          "base_uri": "https://localhost:8080/",
          "height": 330
        },
        "outputId": "1381182b-9a09-4404-c0e3-61c3d55fd38a"
      },
      "source": [
        "#Vizualizing categorical data and their counts\n",
        "data['Room_Type'].value_counts(sort=False).plot(kind='bar')"
      ],
      "execution_count": null,
      "outputs": [
        {
          "output_type": "execute_result",
          "data": {
            "text/plain": [
              "<matplotlib.axes._subplots.AxesSubplot at 0x7f9f20ecf8d0>"
            ]
          },
          "metadata": {
            "tags": []
          },
          "execution_count": 3
        },
        {
          "output_type": "display_data",
          "data": {
            "image/png": "[encoded data removed]",
            "text/plain": [
              "<Figure size 432x288 with 1 Axes>"
            ]
          },
          "metadata": {
            "tags": [],
            "needs_background": "light"
          }
        }
      ]
    },
    {
      "cell_type": "code",
      "metadata": {
        "id": "-UfsU8GG5iW0",
        "colab": {
          "base_uri": "https://localhost:8080/",
          "height": 490
        },
        "outputId": "7bbd00ff-4041-4b4a-ef48-49be8df8ef38"
      },
      "source": [
        "plt.figure(1, figsize=(10,5))\n",
        "data['Tile_type'].value_counts(sort=False).plot(kind='bar')"
      ],
      "execution_count": null,
      "outputs": [
        {
          "output_type": "execute_result",
          "data": {
            "text/plain": [
              "<matplotlib.axes._subplots.AxesSubplot at 0x7f9f20e1f550>"
            ]
          },
          "metadata": {
            "tags": []
          },
          "execution_count": 4
        },
        {
          "output_type": "display_data",
          "data": {
            "image/png": "[encoded data removed]",
            "text/plain": [
              "<Figure size 720x360 with 1 Axes>"
            ]
          },
          "metadata": {
            "tags": [],
            "needs_background": "light"
          }
        }
      ]
    },
    {
      "cell_type": "code",
      "metadata": {
        "id": "dKKTMpa-51HL",
        "colab": {
          "base_uri": "https://localhost:8080/",
          "height": 399
        },
        "outputId": "07124e49-4918-447a-80d0-7dbaa4f9787f"
      },
      "source": [
        "plt.figure(1, figsize=(10,5))\n",
        "data['Tile_Size'].value_counts(sort=False).plot(kind='bar')"
      ],
      "execution_count": null,
      "outputs": [
        {
          "output_type": "execute_result",
          "data": {
            "text/plain": [
              "<matplotlib.axes._subplots.AxesSubplot at 0x7f9f208f62d0>"
            ]
          },
          "metadata": {
            "tags": []
          },
          "execution_count": 5
        },
        {
          "output_type": "display_data",
          "data": {
            "image/png": "[encoded data removed]",
            "text/plain": [
              "<Figure size 720x360 with 1 Axes>"
            ]
          },
          "metadata": {
            "tags": [],
            "needs_background": "light"
          }
        }
      ]
    },
    {
      "cell_type": "code",
      "metadata": {
        "id": "8JjDErPw6GQW",
        "colab": {
          "base_uri": "https://localhost:8080/",
          "height": 368
        },
        "outputId": "d4439197-dda3-4337-acdb-7aed96423cee"
      },
      "source": [
        "'''\n",
        "#This is for replacing less frequent colors(<10) but this did not improve the model accuracy. \n",
        "#Decided to keep the colors as it is\n",
        "g = data.groupby('Room_Color')\n",
        "col = 'Room_Color'\n",
        "g.filter(lambda x: len(x) >= 10)\n",
        "data.loc[data[col].value_counts()[data[col]].values < 10, col] = \"Other\"\n",
        "'''\n",
        "plt.figure(1, figsize=(15,5))\n",
        "data['Room_Color'].value_counts(sort=False).plot(kind='bar')"
      ],
      "execution_count": null,
      "outputs": [
        {
          "output_type": "execute_result",
          "data": {
            "text/plain": [
              "<matplotlib.axes._subplots.AxesSubplot at 0x7f9f208eee10>"
            ]
          },
          "metadata": {
            "tags": []
          },
          "execution_count": 6
        },
        {
          "output_type": "display_data",
          "data": {
            "image/png": "[encoded data removed]",
            "text/plain": [
              "<Figure size 1080x360 with 1 Axes>"
            ]
          },
          "metadata": {
            "tags": [],
            "needs_background": "light"
          }
        }
      ]
    },
    {
      "cell_type": "code",
      "metadata": {
        "id": "J9Izb7Q70hm7",
        "colab": {
          "base_uri": "https://localhost:8080/",
          "height": 459
        },
        "outputId": "ca01bcca-185e-4d82-b511-52a3eba9cbbf"
      },
      "source": [
        "'''\n",
        "g = data.groupby('Tile_Color')\n",
        "col = 'Tile_Color'\n",
        "g.filter(lambda x: len(x) >= 10)\n",
        "data.loc[data[col].value_counts()[data[col]].values < 10, col] = \"Other\"\n",
        "'''\n",
        "plt.figure(1, figsize=(15,5))\n",
        "data['Tile_Color'].value_counts(sort=False).plot(kind='bar')\n"
      ],
      "execution_count": null,
      "outputs": [
        {
          "output_type": "execute_result",
          "data": {
            "text/plain": [
              "<matplotlib.axes._subplots.AxesSubplot at 0x7f9f208a4e50>"
            ]
          },
          "metadata": {
            "tags": []
          },
          "execution_count": 7
        },
        {
          "output_type": "display_data",
          "data": {
            "image/png": "[encoded data removed]",
            "text/plain": [
              "<Figure size 1080x360 with 1 Axes>"
            ]
          },
          "metadata": {
            "tags": [],
            "needs_background": "light"
          }
        }
      ]
    },
    {
      "cell_type": "code",
      "metadata": {
        "id": "F19bVOddlqRr",
        "colab": {
          "base_uri": "https://localhost:8080/",
          "height": 378
        },
        "outputId": "04ec2862-320a-47de-edc6-d273d9061af9"
      },
      "source": [
        "data['Finish_Type'].value_counts(sort=False).plot(kind='bar')"
      ],
      "execution_count": null,
      "outputs": [
        {
          "output_type": "execute_result",
          "data": {
            "text/plain": [
              "<matplotlib.axes._subplots.AxesSubplot at 0x7f9f2051da10>"
            ]
          },
          "metadata": {
            "tags": []
          },
          "execution_count": 8
        },
        {
          "output_type": "display_data",
          "data": {
            "image/png": "[encoded data removed]",
            "text/plain": [
              "<Figure size 432x288 with 1 Axes>"
            ]
          },
          "metadata": {
            "tags": [],
            "needs_background": "light"
          }
        }
      ]
    },
    {
      "cell_type": "code",
      "metadata": {
        "id": "2kmr16dCRlMW"
      },
      "source": [
        "'''\n",
        "Categorical data needs to be encoded. \n",
        "Ordinal encoding and One-hot encoding used and tested.\n",
        "Accuracy of the model was higher when using one-hot encoding thus it was used.\n",
        "'''\n",
        "fields = data.drop(['Tile_Price'],axis=1).columns #Tile_Price is numerical\n",
        "uniques = [np.sort(data[i].unique()) for i in fields]\n",
        "\n",
        "encoders = [OneHotEncoder(handle_unknown='ignore') for i in range(7)]\n",
        "\n",
        "for i,encoder in enumerate(encoders):\n",
        "    encoder.fit(np.array(uniques[i]).reshape((-1,1)))"
      ],
      "execution_count": 3,
      "outputs": []
    },
    {
      "cell_type": "code",
      "metadata": {
        "id": "eBlVMzkPm7EY"
      },
      "source": [
        "# Tile_Price is normalized (by dividing max value)\n",
        "\n",
        "max_price = data['Tile_Price'].max()\n",
        "price_scaled = data['Tile_Price']/max_price\n",
        "\n",
        "price_normalized = pd.DataFrame(price_scaled,columns=['Tile_Price'])\n"
      ],
      "execution_count": 5,
      "outputs": []
    },
    {
      "cell_type": "code",
      "metadata": {
        "id": "zbXZSRMkRmIu"
      },
      "source": [
        "dataframes = [price_normalized]\n",
        "for i in range(6):\n",
        "  encoded = encoders[i+1].transform(np.array(data[fields[i+1]]).reshape((-1,1))).toarray()\n",
        "  dataframes.append(pd.DataFrame(encoded,columns=[fields[i+1]+j for j in uniques[i+1]]))\n",
        "  "
      ],
      "execution_count": 6,
      "outputs": []
    },
    {
      "cell_type": "code",
      "metadata": {
        "id": "XeJX3FRkRmEQ"
      },
      "source": [
        "dataset = pd.concat(dataframes,axis=1)"
      ],
      "execution_count": 7,
      "outputs": []
    },
    {
      "cell_type": "code",
      "metadata": {
        "id": "wqTv0qUKjNSb",
        "colab": {
          "base_uri": "https://localhost:8080/",
          "height": 278
        },
        "outputId": "22c3cfb4-224a-4d71-ca5b-63d2a3280290"
      },
      "source": [
        "dataset.head()"
      ],
      "execution_count": 8,
      "outputs": [
        {
          "output_type": "execute_result",
          "data": {
            "text/html": [
              "<div>\n",
              "<style scoped>\n",
              "    .dataframe tbody tr th:only-of-type {\n",
              "        vertical-align: middle;\n",
              "    }\n",
              "\n",
              "    .dataframe tbody tr th {\n",
              "        vertical-align: top;\n",
              "    }\n",
              "\n",
              "    .dataframe thead th {\n",
              "        text-align: right;\n",
              "    }\n",
              "</style>\n",
              "<table border=\"1\" class=\"dataframe\">\n",
              "  <thead>\n",
              "    <tr style=\"text-align: right;\">\n",
              "      <th></th>\n",
              "      <th>Tile_Price</th>\n",
              "      <th>Tile_ColorAlmond</th>\n",
              "      <th>Tile_ColorAsh Black</th>\n",
              "      <th>Tile_ColorAugustus Classic</th>\n",
              "      <th>Tile_ColorAugustus Classic yellow</th>\n",
              "      <th>Tile_ColorBeige</th>\n",
              "      <th>Tile_ColorBeige Beige</th>\n",
              "      <th>Tile_ColorBlack</th>\n",
              "      <th>Tile_ColorBlue</th>\n",
              "      <th>Tile_ColorBrown</th>\n",
              "      <th>Tile_ColorBrown Beige</th>\n",
              "      <th>Tile_ColorBrown Black</th>\n",
              "      <th>Tile_ColorBrown White</th>\n",
              "      <th>Tile_ColorBrownish Green</th>\n",
              "      <th>Tile_ColorBurma Teak</th>\n",
              "      <th>Tile_ColorCement</th>\n",
              "      <th>Tile_ColorCement Beige</th>\n",
              "      <th>Tile_ColorCement Brown</th>\n",
              "      <th>Tile_ColorCement Gray</th>\n",
              "      <th>Tile_ColorCharcoal Black</th>\n",
              "      <th>Tile_ColorCobolt Blue</th>\n",
              "      <th>Tile_ColorCream</th>\n",
              "      <th>Tile_ColorDark Black</th>\n",
              "      <th>Tile_ColorDark Blue</th>\n",
              "      <th>Tile_ColorDark Brown</th>\n",
              "      <th>Tile_ColorDark Gray</th>\n",
              "      <th>Tile_ColorDark Pink</th>\n",
              "      <th>Tile_ColorDark Red</th>\n",
              "      <th>Tile_ColorGolden</th>\n",
              "      <th>Tile_ColorGray</th>\n",
              "      <th>Tile_ColorGray Beige</th>\n",
              "      <th>Tile_ColorGray Black</th>\n",
              "      <th>Tile_ColorGray Green</th>\n",
              "      <th>Tile_ColorGray White</th>\n",
              "      <th>Tile_ColorGreen</th>\n",
              "      <th>Tile_ColorGreen Beige</th>\n",
              "      <th>Tile_ColorGreen White</th>\n",
              "      <th>Tile_ColorHarvest Beige</th>\n",
              "      <th>Tile_ColorIvory</th>\n",
              "      <th>Tile_ColorKalumediriya</th>\n",
              "      <th>...</th>\n",
              "      <th>Tile_Size500 x 500 mm</th>\n",
              "      <th>Tile_Size550 x 300 mm</th>\n",
              "      <th>Tile_Size600 x 300 mm</th>\n",
              "      <th>Room_TypeBathroom</th>\n",
              "      <th>Room_TypeBedroom</th>\n",
              "      <th>Room_TypeDiningroom</th>\n",
              "      <th>Room_TypeKitchen</th>\n",
              "      <th>Room_TypeLivingroom</th>\n",
              "      <th>Room_ColorAlmond</th>\n",
              "      <th>Room_ColorBeige</th>\n",
              "      <th>Room_ColorBlack</th>\n",
              "      <th>Room_ColorBlue</th>\n",
              "      <th>Room_ColorBrown</th>\n",
              "      <th>Room_ColorClassic</th>\n",
              "      <th>Room_ColorCream</th>\n",
              "      <th>Room_ColorGolden</th>\n",
              "      <th>Room_ColorGray</th>\n",
              "      <th>Room_ColorGreen</th>\n",
              "      <th>Room_ColorIvory</th>\n",
              "      <th>Room_ColorLight</th>\n",
              "      <th>Room_ColorMuschio</th>\n",
              "      <th>Room_ColorOrange</th>\n",
              "      <th>Room_ColorPink</th>\n",
              "      <th>Room_ColorRed</th>\n",
              "      <th>Room_ColorRose</th>\n",
              "      <th>Room_ColorRustic</th>\n",
              "      <th>Room_ColorSilver</th>\n",
              "      <th>Room_ColorStone</th>\n",
              "      <th>Room_ColorWhite</th>\n",
              "      <th>Room_ColorYellow</th>\n",
              "      <th>Tile_typeCeramic Tile</th>\n",
              "      <th>Tile_typeFully Vitrified Full Body Porcelain</th>\n",
              "      <th>Tile_typeGlazed Ceramic Tile</th>\n",
              "      <th>Tile_typeGlazed Vitrified Porcelain Tile</th>\n",
              "      <th>Tile_typePorcelain Tile</th>\n",
              "      <th>Finish_TypeAnti Slip</th>\n",
              "      <th>Finish_TypeMatt</th>\n",
              "      <th>Finish_TypeMatt Non-Rectified</th>\n",
              "      <th>Finish_TypeSatin Matt Rectified</th>\n",
              "      <th>Finish_TypeSemi Gloss Rectified</th>\n",
              "    </tr>\n",
              "  </thead>\n",
              "  <tbody>\n",
              "    <tr>\n",
              "      <th>0</th>\n",
              "      <td>0.215760</td>\n",
              "      <td>0.0</td>\n",
              "      <td>0.0</td>\n",
              "      <td>0.0</td>\n",
              "      <td>0.0</td>\n",
              "      <td>0.0</td>\n",
              "      <td>0.0</td>\n",
              "      <td>0.0</td>\n",
              "      <td>0.0</td>\n",
              "      <td>0.0</td>\n",
              "      <td>0.0</td>\n",
              "      <td>0.0</td>\n",
              "      <td>0.0</td>\n",
              "      <td>0.0</td>\n",
              "      <td>0.0</td>\n",
              "      <td>0.0</td>\n",
              "      <td>0.0</td>\n",
              "      <td>0.0</td>\n",
              "      <td>0.0</td>\n",
              "      <td>0.0</td>\n",
              "      <td>0.0</td>\n",
              "      <td>0.0</td>\n",
              "      <td>0.0</td>\n",
              "      <td>0.0</td>\n",
              "      <td>0.0</td>\n",
              "      <td>0.0</td>\n",
              "      <td>0.0</td>\n",
              "      <td>0.0</td>\n",
              "      <td>0.0</td>\n",
              "      <td>0.0</td>\n",
              "      <td>0.0</td>\n",
              "      <td>0.0</td>\n",
              "      <td>0.0</td>\n",
              "      <td>0.0</td>\n",
              "      <td>0.0</td>\n",
              "      <td>0.0</td>\n",
              "      <td>0.0</td>\n",
              "      <td>0.0</td>\n",
              "      <td>0.0</td>\n",
              "      <td>0.0</td>\n",
              "      <td>...</td>\n",
              "      <td>0.0</td>\n",
              "      <td>0.0</td>\n",
              "      <td>0.0</td>\n",
              "      <td>0.0</td>\n",
              "      <td>1.0</td>\n",
              "      <td>0.0</td>\n",
              "      <td>0.0</td>\n",
              "      <td>0.0</td>\n",
              "      <td>0.0</td>\n",
              "      <td>0.0</td>\n",
              "      <td>0.0</td>\n",
              "      <td>0.0</td>\n",
              "      <td>0.0</td>\n",
              "      <td>0.0</td>\n",
              "      <td>0.0</td>\n",
              "      <td>0.0</td>\n",
              "      <td>0.0</td>\n",
              "      <td>0.0</td>\n",
              "      <td>0.0</td>\n",
              "      <td>0.0</td>\n",
              "      <td>0.0</td>\n",
              "      <td>0.0</td>\n",
              "      <td>0.0</td>\n",
              "      <td>0.0</td>\n",
              "      <td>1.0</td>\n",
              "      <td>0.0</td>\n",
              "      <td>0.0</td>\n",
              "      <td>0.0</td>\n",
              "      <td>0.0</td>\n",
              "      <td>0.0</td>\n",
              "      <td>0.0</td>\n",
              "      <td>1.0</td>\n",
              "      <td>0.0</td>\n",
              "      <td>0.0</td>\n",
              "      <td>0.0</td>\n",
              "      <td>1.0</td>\n",
              "      <td>0.0</td>\n",
              "      <td>0.0</td>\n",
              "      <td>0.0</td>\n",
              "      <td>0.0</td>\n",
              "    </tr>\n",
              "    <tr>\n",
              "      <th>1</th>\n",
              "      <td>0.222326</td>\n",
              "      <td>0.0</td>\n",
              "      <td>0.0</td>\n",
              "      <td>0.0</td>\n",
              "      <td>0.0</td>\n",
              "      <td>0.0</td>\n",
              "      <td>0.0</td>\n",
              "      <td>0.0</td>\n",
              "      <td>0.0</td>\n",
              "      <td>0.0</td>\n",
              "      <td>0.0</td>\n",
              "      <td>0.0</td>\n",
              "      <td>0.0</td>\n",
              "      <td>0.0</td>\n",
              "      <td>0.0</td>\n",
              "      <td>0.0</td>\n",
              "      <td>0.0</td>\n",
              "      <td>0.0</td>\n",
              "      <td>0.0</td>\n",
              "      <td>0.0</td>\n",
              "      <td>0.0</td>\n",
              "      <td>0.0</td>\n",
              "      <td>0.0</td>\n",
              "      <td>0.0</td>\n",
              "      <td>0.0</td>\n",
              "      <td>0.0</td>\n",
              "      <td>0.0</td>\n",
              "      <td>0.0</td>\n",
              "      <td>0.0</td>\n",
              "      <td>0.0</td>\n",
              "      <td>0.0</td>\n",
              "      <td>0.0</td>\n",
              "      <td>0.0</td>\n",
              "      <td>0.0</td>\n",
              "      <td>0.0</td>\n",
              "      <td>0.0</td>\n",
              "      <td>0.0</td>\n",
              "      <td>0.0</td>\n",
              "      <td>0.0</td>\n",
              "      <td>0.0</td>\n",
              "      <td>...</td>\n",
              "      <td>0.0</td>\n",
              "      <td>0.0</td>\n",
              "      <td>0.0</td>\n",
              "      <td>0.0</td>\n",
              "      <td>1.0</td>\n",
              "      <td>0.0</td>\n",
              "      <td>0.0</td>\n",
              "      <td>0.0</td>\n",
              "      <td>0.0</td>\n",
              "      <td>0.0</td>\n",
              "      <td>0.0</td>\n",
              "      <td>0.0</td>\n",
              "      <td>0.0</td>\n",
              "      <td>0.0</td>\n",
              "      <td>0.0</td>\n",
              "      <td>0.0</td>\n",
              "      <td>0.0</td>\n",
              "      <td>0.0</td>\n",
              "      <td>0.0</td>\n",
              "      <td>0.0</td>\n",
              "      <td>0.0</td>\n",
              "      <td>0.0</td>\n",
              "      <td>0.0</td>\n",
              "      <td>1.0</td>\n",
              "      <td>0.0</td>\n",
              "      <td>0.0</td>\n",
              "      <td>0.0</td>\n",
              "      <td>0.0</td>\n",
              "      <td>0.0</td>\n",
              "      <td>0.0</td>\n",
              "      <td>0.0</td>\n",
              "      <td>1.0</td>\n",
              "      <td>0.0</td>\n",
              "      <td>0.0</td>\n",
              "      <td>0.0</td>\n",
              "      <td>1.0</td>\n",
              "      <td>0.0</td>\n",
              "      <td>0.0</td>\n",
              "      <td>0.0</td>\n",
              "      <td>0.0</td>\n",
              "    </tr>\n",
              "    <tr>\n",
              "      <th>2</th>\n",
              "      <td>0.222326</td>\n",
              "      <td>0.0</td>\n",
              "      <td>0.0</td>\n",
              "      <td>0.0</td>\n",
              "      <td>0.0</td>\n",
              "      <td>0.0</td>\n",
              "      <td>0.0</td>\n",
              "      <td>0.0</td>\n",
              "      <td>0.0</td>\n",
              "      <td>1.0</td>\n",
              "      <td>0.0</td>\n",
              "      <td>0.0</td>\n",
              "      <td>0.0</td>\n",
              "      <td>0.0</td>\n",
              "      <td>0.0</td>\n",
              "      <td>0.0</td>\n",
              "      <td>0.0</td>\n",
              "      <td>0.0</td>\n",
              "      <td>0.0</td>\n",
              "      <td>0.0</td>\n",
              "      <td>0.0</td>\n",
              "      <td>0.0</td>\n",
              "      <td>0.0</td>\n",
              "      <td>0.0</td>\n",
              "      <td>0.0</td>\n",
              "      <td>0.0</td>\n",
              "      <td>0.0</td>\n",
              "      <td>0.0</td>\n",
              "      <td>0.0</td>\n",
              "      <td>0.0</td>\n",
              "      <td>0.0</td>\n",
              "      <td>0.0</td>\n",
              "      <td>0.0</td>\n",
              "      <td>0.0</td>\n",
              "      <td>0.0</td>\n",
              "      <td>0.0</td>\n",
              "      <td>0.0</td>\n",
              "      <td>0.0</td>\n",
              "      <td>0.0</td>\n",
              "      <td>0.0</td>\n",
              "      <td>...</td>\n",
              "      <td>0.0</td>\n",
              "      <td>0.0</td>\n",
              "      <td>0.0</td>\n",
              "      <td>0.0</td>\n",
              "      <td>1.0</td>\n",
              "      <td>0.0</td>\n",
              "      <td>0.0</td>\n",
              "      <td>0.0</td>\n",
              "      <td>0.0</td>\n",
              "      <td>0.0</td>\n",
              "      <td>0.0</td>\n",
              "      <td>0.0</td>\n",
              "      <td>1.0</td>\n",
              "      <td>0.0</td>\n",
              "      <td>0.0</td>\n",
              "      <td>0.0</td>\n",
              "      <td>0.0</td>\n",
              "      <td>0.0</td>\n",
              "      <td>0.0</td>\n",
              "      <td>0.0</td>\n",
              "      <td>0.0</td>\n",
              "      <td>0.0</td>\n",
              "      <td>0.0</td>\n",
              "      <td>0.0</td>\n",
              "      <td>0.0</td>\n",
              "      <td>0.0</td>\n",
              "      <td>0.0</td>\n",
              "      <td>0.0</td>\n",
              "      <td>0.0</td>\n",
              "      <td>0.0</td>\n",
              "      <td>0.0</td>\n",
              "      <td>1.0</td>\n",
              "      <td>0.0</td>\n",
              "      <td>0.0</td>\n",
              "      <td>0.0</td>\n",
              "      <td>1.0</td>\n",
              "      <td>0.0</td>\n",
              "      <td>0.0</td>\n",
              "      <td>0.0</td>\n",
              "      <td>0.0</td>\n",
              "    </tr>\n",
              "    <tr>\n",
              "      <th>3</th>\n",
              "      <td>0.145403</td>\n",
              "      <td>0.0</td>\n",
              "      <td>0.0</td>\n",
              "      <td>0.0</td>\n",
              "      <td>0.0</td>\n",
              "      <td>0.0</td>\n",
              "      <td>0.0</td>\n",
              "      <td>0.0</td>\n",
              "      <td>0.0</td>\n",
              "      <td>0.0</td>\n",
              "      <td>0.0</td>\n",
              "      <td>0.0</td>\n",
              "      <td>0.0</td>\n",
              "      <td>0.0</td>\n",
              "      <td>0.0</td>\n",
              "      <td>0.0</td>\n",
              "      <td>0.0</td>\n",
              "      <td>0.0</td>\n",
              "      <td>0.0</td>\n",
              "      <td>0.0</td>\n",
              "      <td>0.0</td>\n",
              "      <td>0.0</td>\n",
              "      <td>0.0</td>\n",
              "      <td>0.0</td>\n",
              "      <td>0.0</td>\n",
              "      <td>0.0</td>\n",
              "      <td>0.0</td>\n",
              "      <td>0.0</td>\n",
              "      <td>0.0</td>\n",
              "      <td>1.0</td>\n",
              "      <td>0.0</td>\n",
              "      <td>0.0</td>\n",
              "      <td>0.0</td>\n",
              "      <td>0.0</td>\n",
              "      <td>0.0</td>\n",
              "      <td>0.0</td>\n",
              "      <td>0.0</td>\n",
              "      <td>0.0</td>\n",
              "      <td>0.0</td>\n",
              "      <td>0.0</td>\n",
              "      <td>...</td>\n",
              "      <td>0.0</td>\n",
              "      <td>0.0</td>\n",
              "      <td>0.0</td>\n",
              "      <td>0.0</td>\n",
              "      <td>1.0</td>\n",
              "      <td>0.0</td>\n",
              "      <td>0.0</td>\n",
              "      <td>0.0</td>\n",
              "      <td>0.0</td>\n",
              "      <td>0.0</td>\n",
              "      <td>0.0</td>\n",
              "      <td>0.0</td>\n",
              "      <td>0.0</td>\n",
              "      <td>0.0</td>\n",
              "      <td>0.0</td>\n",
              "      <td>0.0</td>\n",
              "      <td>1.0</td>\n",
              "      <td>0.0</td>\n",
              "      <td>0.0</td>\n",
              "      <td>0.0</td>\n",
              "      <td>0.0</td>\n",
              "      <td>0.0</td>\n",
              "      <td>0.0</td>\n",
              "      <td>0.0</td>\n",
              "      <td>0.0</td>\n",
              "      <td>0.0</td>\n",
              "      <td>0.0</td>\n",
              "      <td>0.0</td>\n",
              "      <td>0.0</td>\n",
              "      <td>0.0</td>\n",
              "      <td>0.0</td>\n",
              "      <td>1.0</td>\n",
              "      <td>0.0</td>\n",
              "      <td>0.0</td>\n",
              "      <td>0.0</td>\n",
              "      <td>1.0</td>\n",
              "      <td>0.0</td>\n",
              "      <td>0.0</td>\n",
              "      <td>0.0</td>\n",
              "      <td>0.0</td>\n",
              "    </tr>\n",
              "    <tr>\n",
              "      <th>4</th>\n",
              "      <td>0.241088</td>\n",
              "      <td>0.0</td>\n",
              "      <td>0.0</td>\n",
              "      <td>0.0</td>\n",
              "      <td>0.0</td>\n",
              "      <td>0.0</td>\n",
              "      <td>0.0</td>\n",
              "      <td>0.0</td>\n",
              "      <td>0.0</td>\n",
              "      <td>0.0</td>\n",
              "      <td>0.0</td>\n",
              "      <td>0.0</td>\n",
              "      <td>0.0</td>\n",
              "      <td>0.0</td>\n",
              "      <td>0.0</td>\n",
              "      <td>0.0</td>\n",
              "      <td>0.0</td>\n",
              "      <td>0.0</td>\n",
              "      <td>0.0</td>\n",
              "      <td>0.0</td>\n",
              "      <td>0.0</td>\n",
              "      <td>0.0</td>\n",
              "      <td>0.0</td>\n",
              "      <td>0.0</td>\n",
              "      <td>0.0</td>\n",
              "      <td>0.0</td>\n",
              "      <td>0.0</td>\n",
              "      <td>0.0</td>\n",
              "      <td>0.0</td>\n",
              "      <td>0.0</td>\n",
              "      <td>0.0</td>\n",
              "      <td>0.0</td>\n",
              "      <td>0.0</td>\n",
              "      <td>0.0</td>\n",
              "      <td>0.0</td>\n",
              "      <td>0.0</td>\n",
              "      <td>0.0</td>\n",
              "      <td>0.0</td>\n",
              "      <td>0.0</td>\n",
              "      <td>0.0</td>\n",
              "      <td>...</td>\n",
              "      <td>0.0</td>\n",
              "      <td>0.0</td>\n",
              "      <td>0.0</td>\n",
              "      <td>0.0</td>\n",
              "      <td>1.0</td>\n",
              "      <td>0.0</td>\n",
              "      <td>0.0</td>\n",
              "      <td>0.0</td>\n",
              "      <td>0.0</td>\n",
              "      <td>0.0</td>\n",
              "      <td>0.0</td>\n",
              "      <td>0.0</td>\n",
              "      <td>0.0</td>\n",
              "      <td>0.0</td>\n",
              "      <td>0.0</td>\n",
              "      <td>0.0</td>\n",
              "      <td>0.0</td>\n",
              "      <td>1.0</td>\n",
              "      <td>0.0</td>\n",
              "      <td>0.0</td>\n",
              "      <td>0.0</td>\n",
              "      <td>0.0</td>\n",
              "      <td>0.0</td>\n",
              "      <td>0.0</td>\n",
              "      <td>0.0</td>\n",
              "      <td>0.0</td>\n",
              "      <td>0.0</td>\n",
              "      <td>0.0</td>\n",
              "      <td>0.0</td>\n",
              "      <td>0.0</td>\n",
              "      <td>0.0</td>\n",
              "      <td>0.0</td>\n",
              "      <td>0.0</td>\n",
              "      <td>0.0</td>\n",
              "      <td>1.0</td>\n",
              "      <td>1.0</td>\n",
              "      <td>0.0</td>\n",
              "      <td>0.0</td>\n",
              "      <td>0.0</td>\n",
              "      <td>0.0</td>\n",
              "    </tr>\n",
              "  </tbody>\n",
              "</table>\n",
              "<p>5 rows × 175 columns</p>\n",
              "</div>"
            ],
            "text/plain": [
              "   Tile_Price  ...  Finish_TypeSemi Gloss Rectified\n",
              "0    0.215760  ...                              0.0\n",
              "1    0.222326  ...                              0.0\n",
              "2    0.222326  ...                              0.0\n",
              "3    0.145403  ...                              0.0\n",
              "4    0.241088  ...                              0.0\n",
              "\n",
              "[5 rows x 175 columns]"
            ]
          },
          "metadata": {
            "tags": []
          },
          "execution_count": 8
        }
      ]
    },
    {
      "cell_type": "code",
      "metadata": {
        "id": "yQnL0bhwRl8l",
        "colab": {
          "base_uri": "https://localhost:8080/"
        },
        "outputId": "26213b6a-141c-45a1-e046-955496fe2cdf"
      },
      "source": [
        "# One-hot encoding labels\n",
        "labels = data['Tile_Name']\n",
        "encoded = encoders[0].transform(np.array(labels).reshape((-1,1))).toarray()\n",
        "labels = pd.DataFrame(encoded,columns=[j for j in uniques[0]])\n",
        "print(encoded.shape)"
      ],
      "execution_count": 9,
      "outputs": [
        {
          "output_type": "stream",
          "text": [
            "(1251, 32)\n"
          ],
          "name": "stdout"
        }
      ]
    },
    {
      "cell_type": "code",
      "metadata": {
        "id": "vxHT7ItWRl3_"
      },
      "source": [
        "train_in, test_in, train_out, test_out =  train_test_split(dataset,labels, test_size=0.2)"
      ],
      "execution_count": 34,
      "outputs": []
    },
    {
      "cell_type": "code",
      "metadata": {
        "id": "FuEY5Tg0BqPt",
        "colab": {
          "base_uri": "https://localhost:8080/"
        },
        "outputId": "0cee9de8-17ef-4aed-b612-7cf1c2d7a7f0"
      },
      "source": [
        "train_in.shape"
      ],
      "execution_count": 35,
      "outputs": [
        {
          "output_type": "execute_result",
          "data": {
            "text/plain": [
              "(1000, 175)"
            ]
          },
          "metadata": {
            "tags": []
          },
          "execution_count": 35
        }
      ]
    },
    {
      "cell_type": "code",
      "metadata": {
        "id": "JrjbVq-XRl1u"
      },
      "source": [
        "model=tf.keras.Sequential([\n",
        "  tf.keras.layers.Input(shape=(175,)),\n",
        "  tf.keras.layers.Dense(250,activation='relu'),\n",
        "  tf.keras.layers.Dropout(0.5),\n",
        "  tf.keras.layers.Dense(100,activation='relu'),\n",
        "  tf.keras.layers.Dropout(0.3),\n",
        "  tf.keras.layers.Dense(40,activation='relu'),\n",
        "  tf.keras.layers.Dropout(0.2), \n",
        "  tf.keras.layers.Dense(40,activation='relu'),\n",
        "  tf.keras.layers.Dropout(0.2), \n",
        "  tf.keras.layers.Dense(32,activation='sigmoid')\n",
        "  ])\n",
        "model.compile(optimizer='Adam', \n",
        "              loss='categorical_crossentropy',\n",
        "              metrics=['accuracy'])"
      ],
      "execution_count": 36,
      "outputs": []
    },
    {
      "cell_type": "code",
      "metadata": {
        "id": "XWMB_tyblizj",
        "colab": {
          "base_uri": "https://localhost:8080/"
        },
        "outputId": "772d3283-dbcd-41bd-f38e-531ea1abecfb"
      },
      "source": [
        "history = model.fit(train_in,train_out, batch_size=32 ,epochs=200,validation_data=(test_in,test_out))"
      ],
      "execution_count": 37,
      "outputs": [
        {
          "output_type": "stream",
          "text": [
            "Epoch 1/200\n",
            "32/32 [==============================] - 1s 18ms/step - loss: 3.3308 - accuracy: 0.1410 - val_loss: 2.9290 - val_accuracy: 0.1793\n",
            "Epoch 2/200\n",
            "32/32 [==============================] - 0s 6ms/step - loss: 2.9269 - accuracy: 0.1593 - val_loss: 2.7180 - val_accuracy: 0.1912\n",
            "Epoch 3/200\n",
            "32/32 [==============================] - 0s 6ms/step - loss: 2.7103 - accuracy: 0.1946 - val_loss: 2.5689 - val_accuracy: 0.2470\n",
            "Epoch 4/200\n",
            "32/32 [==============================] - 0s 6ms/step - loss: 2.6368 - accuracy: 0.2070 - val_loss: 2.4609 - val_accuracy: 0.3028\n",
            "Epoch 5/200\n",
            "32/32 [==============================] - 0s 7ms/step - loss: 2.4717 - accuracy: 0.2370 - val_loss: 2.3505 - val_accuracy: 0.3466\n",
            "Epoch 6/200\n",
            "32/32 [==============================] - 0s 6ms/step - loss: 2.3619 - accuracy: 0.2945 - val_loss: 2.2431 - val_accuracy: 0.4064\n",
            "Epoch 7/200\n",
            "32/32 [==============================] - 0s 6ms/step - loss: 2.2911 - accuracy: 0.3451 - val_loss: 2.1370 - val_accuracy: 0.3984\n",
            "Epoch 8/200\n",
            "32/32 [==============================] - 0s 5ms/step - loss: 2.2019 - accuracy: 0.3521 - val_loss: 2.0675 - val_accuracy: 0.3904\n",
            "Epoch 9/200\n",
            "32/32 [==============================] - 0s 6ms/step - loss: 2.1688 - accuracy: 0.3515 - val_loss: 1.9697 - val_accuracy: 0.4303\n",
            "Epoch 10/200\n",
            "32/32 [==============================] - 0s 7ms/step - loss: 2.0162 - accuracy: 0.4199 - val_loss: 1.9154 - val_accuracy: 0.4462\n",
            "Epoch 11/200\n",
            "32/32 [==============================] - 0s 6ms/step - loss: 1.9364 - accuracy: 0.4199 - val_loss: 1.8446 - val_accuracy: 0.4701\n",
            "Epoch 12/200\n",
            "32/32 [==============================] - 0s 6ms/step - loss: 1.8804 - accuracy: 0.4319 - val_loss: 1.7852 - val_accuracy: 0.5060\n",
            "Epoch 13/200\n",
            "32/32 [==============================] - 0s 6ms/step - loss: 1.7995 - accuracy: 0.4394 - val_loss: 1.7471 - val_accuracy: 0.4980\n",
            "Epoch 14/200\n",
            "32/32 [==============================] - 0s 6ms/step - loss: 1.7924 - accuracy: 0.4573 - val_loss: 1.6708 - val_accuracy: 0.5219\n",
            "Epoch 15/200\n",
            "32/32 [==============================] - 0s 7ms/step - loss: 1.7229 - accuracy: 0.4618 - val_loss: 1.6180 - val_accuracy: 0.5139\n",
            "Epoch 16/200\n",
            "32/32 [==============================] - 0s 6ms/step - loss: 1.6997 - accuracy: 0.4739 - val_loss: 1.5544 - val_accuracy: 0.5458\n",
            "Epoch 17/200\n",
            "32/32 [==============================] - 0s 7ms/step - loss: 1.5289 - accuracy: 0.5342 - val_loss: 1.5204 - val_accuracy: 0.5378\n",
            "Epoch 18/200\n",
            "32/32 [==============================] - 0s 6ms/step - loss: 1.5103 - accuracy: 0.5184 - val_loss: 1.4607 - val_accuracy: 0.5458\n",
            "Epoch 19/200\n",
            "32/32 [==============================] - 0s 5ms/step - loss: 1.5783 - accuracy: 0.4979 - val_loss: 1.4667 - val_accuracy: 0.5618\n",
            "Epoch 20/200\n",
            "32/32 [==============================] - 0s 6ms/step - loss: 1.4643 - accuracy: 0.5296 - val_loss: 1.4047 - val_accuracy: 0.5578\n",
            "Epoch 21/200\n",
            "32/32 [==============================] - 0s 6ms/step - loss: 1.4525 - accuracy: 0.5527 - val_loss: 1.3831 - val_accuracy: 0.5697\n",
            "Epoch 22/200\n",
            "32/32 [==============================] - 0s 5ms/step - loss: 1.4946 - accuracy: 0.5188 - val_loss: 1.3283 - val_accuracy: 0.6016\n",
            "Epoch 23/200\n",
            "32/32 [==============================] - 0s 5ms/step - loss: 1.2923 - accuracy: 0.5855 - val_loss: 1.3188 - val_accuracy: 0.5976\n",
            "Epoch 24/200\n",
            "32/32 [==============================] - 0s 5ms/step - loss: 1.2325 - accuracy: 0.6282 - val_loss: 1.2707 - val_accuracy: 0.5976\n",
            "Epoch 25/200\n",
            "32/32 [==============================] - 0s 5ms/step - loss: 1.2631 - accuracy: 0.5849 - val_loss: 1.2382 - val_accuracy: 0.5936\n",
            "Epoch 26/200\n",
            "32/32 [==============================] - 0s 5ms/step - loss: 1.2478 - accuracy: 0.5820 - val_loss: 1.2440 - val_accuracy: 0.6056\n",
            "Epoch 27/200\n",
            "32/32 [==============================] - 0s 6ms/step - loss: 1.1879 - accuracy: 0.6005 - val_loss: 1.2177 - val_accuracy: 0.6255\n",
            "Epoch 28/200\n",
            "32/32 [==============================] - 0s 6ms/step - loss: 1.1100 - accuracy: 0.6459 - val_loss: 1.1923 - val_accuracy: 0.6295\n",
            "Epoch 29/200\n",
            "32/32 [==============================] - 0s 6ms/step - loss: 1.1119 - accuracy: 0.6224 - val_loss: 1.2343 - val_accuracy: 0.6096\n",
            "Epoch 30/200\n",
            "32/32 [==============================] - 0s 5ms/step - loss: 1.1956 - accuracy: 0.5990 - val_loss: 1.1836 - val_accuracy: 0.6335\n",
            "Epoch 31/200\n",
            "32/32 [==============================] - 0s 6ms/step - loss: 1.1099 - accuracy: 0.6307 - val_loss: 1.1773 - val_accuracy: 0.6375\n",
            "Epoch 32/200\n",
            "32/32 [==============================] - 0s 5ms/step - loss: 1.1541 - accuracy: 0.5988 - val_loss: 1.1832 - val_accuracy: 0.6375\n",
            "Epoch 33/200\n",
            "32/32 [==============================] - 0s 5ms/step - loss: 1.0807 - accuracy: 0.6282 - val_loss: 1.1919 - val_accuracy: 0.6375\n",
            "Epoch 34/200\n",
            "32/32 [==============================] - 0s 5ms/step - loss: 1.0333 - accuracy: 0.6491 - val_loss: 1.1808 - val_accuracy: 0.6375\n",
            "Epoch 35/200\n",
            "32/32 [==============================] - 0s 5ms/step - loss: 1.1241 - accuracy: 0.6233 - val_loss: 1.1603 - val_accuracy: 0.6215\n",
            "Epoch 36/200\n",
            "32/32 [==============================] - 0s 5ms/step - loss: 0.9881 - accuracy: 0.6563 - val_loss: 1.1510 - val_accuracy: 0.6574\n",
            "Epoch 37/200\n",
            "32/32 [==============================] - 0s 6ms/step - loss: 0.9514 - accuracy: 0.6795 - val_loss: 1.1179 - val_accuracy: 0.6414\n",
            "Epoch 38/200\n",
            "32/32 [==============================] - 0s 6ms/step - loss: 0.9440 - accuracy: 0.6760 - val_loss: 1.1164 - val_accuracy: 0.6494\n",
            "Epoch 39/200\n",
            "32/32 [==============================] - 0s 5ms/step - loss: 0.9347 - accuracy: 0.6710 - val_loss: 1.1468 - val_accuracy: 0.6534\n",
            "Epoch 40/200\n",
            "32/32 [==============================] - 0s 5ms/step - loss: 0.9078 - accuracy: 0.6834 - val_loss: 1.1544 - val_accuracy: 0.6454\n",
            "Epoch 41/200\n",
            "32/32 [==============================] - 0s 5ms/step - loss: 0.9090 - accuracy: 0.6774 - val_loss: 1.1506 - val_accuracy: 0.6454\n",
            "Epoch 42/200\n",
            "32/32 [==============================] - 0s 5ms/step - loss: 0.8450 - accuracy: 0.7002 - val_loss: 1.1594 - val_accuracy: 0.6494\n",
            "Epoch 43/200\n",
            "32/32 [==============================] - 0s 5ms/step - loss: 0.9192 - accuracy: 0.6710 - val_loss: 1.1285 - val_accuracy: 0.6653\n",
            "Epoch 44/200\n",
            "32/32 [==============================] - 0s 5ms/step - loss: 0.8760 - accuracy: 0.6676 - val_loss: 1.1098 - val_accuracy: 0.6494\n",
            "Epoch 45/200\n",
            "32/32 [==============================] - 0s 5ms/step - loss: 0.8716 - accuracy: 0.7162 - val_loss: 1.0982 - val_accuracy: 0.6693\n",
            "Epoch 46/200\n",
            "32/32 [==============================] - 0s 5ms/step - loss: 0.8627 - accuracy: 0.7047 - val_loss: 1.1009 - val_accuracy: 0.6653\n",
            "Epoch 47/200\n",
            "32/32 [==============================] - 0s 5ms/step - loss: 0.8619 - accuracy: 0.7170 - val_loss: 1.0878 - val_accuracy: 0.6733\n",
            "Epoch 48/200\n",
            "32/32 [==============================] - 0s 5ms/step - loss: 0.8492 - accuracy: 0.6962 - val_loss: 1.1247 - val_accuracy: 0.6773\n",
            "Epoch 49/200\n",
            "32/32 [==============================] - 0s 6ms/step - loss: 0.8126 - accuracy: 0.7034 - val_loss: 1.1670 - val_accuracy: 0.6653\n",
            "Epoch 50/200\n",
            "32/32 [==============================] - 0s 6ms/step - loss: 0.8320 - accuracy: 0.7262 - val_loss: 1.1015 - val_accuracy: 0.6614\n",
            "Epoch 51/200\n",
            "32/32 [==============================] - 0s 6ms/step - loss: 0.7924 - accuracy: 0.7267 - val_loss: 1.1107 - val_accuracy: 0.6693\n",
            "Epoch 52/200\n",
            "32/32 [==============================] - 0s 6ms/step - loss: 0.8369 - accuracy: 0.7092 - val_loss: 1.1171 - val_accuracy: 0.6653\n",
            "Epoch 53/200\n",
            "32/32 [==============================] - 0s 6ms/step - loss: 0.7945 - accuracy: 0.7245 - val_loss: 1.1182 - val_accuracy: 0.6614\n",
            "Epoch 54/200\n",
            "32/32 [==============================] - 0s 6ms/step - loss: 0.7603 - accuracy: 0.7213 - val_loss: 1.1628 - val_accuracy: 0.6693\n",
            "Epoch 55/200\n",
            "32/32 [==============================] - 0s 6ms/step - loss: 0.7713 - accuracy: 0.7406 - val_loss: 1.1685 - val_accuracy: 0.6813\n",
            "Epoch 56/200\n",
            "32/32 [==============================] - 0s 5ms/step - loss: 0.7379 - accuracy: 0.7396 - val_loss: 1.1365 - val_accuracy: 0.6693\n",
            "Epoch 57/200\n",
            "32/32 [==============================] - 0s 5ms/step - loss: 0.7852 - accuracy: 0.7279 - val_loss: 1.1353 - val_accuracy: 0.6693\n",
            "Epoch 58/200\n",
            "32/32 [==============================] - 0s 6ms/step - loss: 0.7127 - accuracy: 0.7372 - val_loss: 1.1317 - val_accuracy: 0.6653\n",
            "Epoch 59/200\n",
            "32/32 [==============================] - 0s 11ms/step - loss: 0.7410 - accuracy: 0.7440 - val_loss: 1.1649 - val_accuracy: 0.6733\n",
            "Epoch 60/200\n",
            "32/32 [==============================] - 0s 6ms/step - loss: 0.7347 - accuracy: 0.7501 - val_loss: 1.1608 - val_accuracy: 0.6813\n",
            "Epoch 61/200\n",
            "32/32 [==============================] - 0s 5ms/step - loss: 0.6969 - accuracy: 0.7566 - val_loss: 1.1643 - val_accuracy: 0.6693\n",
            "Epoch 62/200\n",
            "32/32 [==============================] - 0s 5ms/step - loss: 0.6882 - accuracy: 0.7456 - val_loss: 1.1643 - val_accuracy: 0.6614\n",
            "Epoch 63/200\n",
            "32/32 [==============================] - 0s 5ms/step - loss: 0.7860 - accuracy: 0.7311 - val_loss: 1.1542 - val_accuracy: 0.6733\n",
            "Epoch 64/200\n",
            "32/32 [==============================] - 0s 6ms/step - loss: 0.7105 - accuracy: 0.7434 - val_loss: 1.1595 - val_accuracy: 0.6693\n",
            "Epoch 65/200\n",
            "32/32 [==============================] - 0s 6ms/step - loss: 0.6727 - accuracy: 0.7520 - val_loss: 1.2038 - val_accuracy: 0.6653\n",
            "Epoch 66/200\n",
            "32/32 [==============================] - 0s 5ms/step - loss: 0.7573 - accuracy: 0.7221 - val_loss: 1.1403 - val_accuracy: 0.6932\n",
            "Epoch 67/200\n",
            "32/32 [==============================] - 0s 5ms/step - loss: 0.6859 - accuracy: 0.7555 - val_loss: 1.1396 - val_accuracy: 0.6853\n",
            "Epoch 68/200\n",
            "32/32 [==============================] - 0s 5ms/step - loss: 0.6633 - accuracy: 0.7872 - val_loss: 1.1437 - val_accuracy: 0.6813\n",
            "Epoch 69/200\n",
            "32/32 [==============================] - 0s 5ms/step - loss: 0.6116 - accuracy: 0.7744 - val_loss: 1.1313 - val_accuracy: 0.6853\n",
            "Epoch 70/200\n",
            "32/32 [==============================] - 0s 5ms/step - loss: 0.6588 - accuracy: 0.7588 - val_loss: 1.1416 - val_accuracy: 0.6813\n",
            "Epoch 71/200\n",
            "32/32 [==============================] - 0s 6ms/step - loss: 0.6064 - accuracy: 0.7878 - val_loss: 1.1831 - val_accuracy: 0.6853\n",
            "Epoch 72/200\n",
            "32/32 [==============================] - 0s 5ms/step - loss: 0.6306 - accuracy: 0.7780 - val_loss: 1.1423 - val_accuracy: 0.6733\n",
            "Epoch 73/200\n",
            "32/32 [==============================] - 0s 6ms/step - loss: 0.6123 - accuracy: 0.7887 - val_loss: 1.1905 - val_accuracy: 0.6494\n",
            "Epoch 74/200\n",
            "32/32 [==============================] - 0s 5ms/step - loss: 0.6669 - accuracy: 0.7429 - val_loss: 1.1612 - val_accuracy: 0.6534\n",
            "Epoch 75/200\n",
            "32/32 [==============================] - 0s 6ms/step - loss: 0.6442 - accuracy: 0.7807 - val_loss: 1.1391 - val_accuracy: 0.6813\n",
            "Epoch 76/200\n",
            "32/32 [==============================] - 0s 5ms/step - loss: 0.6210 - accuracy: 0.7735 - val_loss: 1.1237 - val_accuracy: 0.6932\n",
            "Epoch 77/200\n",
            "32/32 [==============================] - 0s 6ms/step - loss: 0.6623 - accuracy: 0.7677 - val_loss: 1.1098 - val_accuracy: 0.6892\n",
            "Epoch 78/200\n",
            "32/32 [==============================] - 0s 5ms/step - loss: 0.6493 - accuracy: 0.7767 - val_loss: 1.0762 - val_accuracy: 0.7012\n",
            "Epoch 79/200\n",
            "32/32 [==============================] - 0s 5ms/step - loss: 0.6328 - accuracy: 0.7686 - val_loss: 1.1383 - val_accuracy: 0.6932\n",
            "Epoch 80/200\n",
            "32/32 [==============================] - 0s 6ms/step - loss: 0.6504 - accuracy: 0.7551 - val_loss: 1.1243 - val_accuracy: 0.6972\n",
            "Epoch 81/200\n",
            "32/32 [==============================] - 0s 5ms/step - loss: 0.6140 - accuracy: 0.7830 - val_loss: 1.1117 - val_accuracy: 0.7052\n",
            "Epoch 82/200\n",
            "32/32 [==============================] - 0s 6ms/step - loss: 0.6769 - accuracy: 0.7652 - val_loss: 1.0932 - val_accuracy: 0.6932\n",
            "Epoch 83/200\n",
            "32/32 [==============================] - 0s 6ms/step - loss: 0.5858 - accuracy: 0.7748 - val_loss: 1.0892 - val_accuracy: 0.7171\n",
            "Epoch 84/200\n",
            "32/32 [==============================] - 0s 6ms/step - loss: 0.5682 - accuracy: 0.7965 - val_loss: 1.1330 - val_accuracy: 0.7012\n",
            "Epoch 85/200\n",
            "32/32 [==============================] - 0s 6ms/step - loss: 0.6252 - accuracy: 0.7858 - val_loss: 1.1089 - val_accuracy: 0.7012\n",
            "Epoch 86/200\n",
            "32/32 [==============================] - 0s 5ms/step - loss: 0.5945 - accuracy: 0.7649 - val_loss: 1.0955 - val_accuracy: 0.6892\n",
            "Epoch 87/200\n",
            "32/32 [==============================] - 0s 5ms/step - loss: 0.6038 - accuracy: 0.7762 - val_loss: 1.1366 - val_accuracy: 0.6813\n",
            "Epoch 88/200\n",
            "32/32 [==============================] - 0s 5ms/step - loss: 0.5683 - accuracy: 0.8156 - val_loss: 1.1976 - val_accuracy: 0.6932\n",
            "Epoch 89/200\n",
            "32/32 [==============================] - 0s 6ms/step - loss: 0.6464 - accuracy: 0.7647 - val_loss: 1.1308 - val_accuracy: 0.6972\n",
            "Epoch 90/200\n",
            "32/32 [==============================] - 0s 7ms/step - loss: 0.6252 - accuracy: 0.7814 - val_loss: 1.1223 - val_accuracy: 0.6813\n",
            "Epoch 91/200\n",
            "32/32 [==============================] - 0s 6ms/step - loss: 0.6287 - accuracy: 0.7905 - val_loss: 1.0913 - val_accuracy: 0.6892\n",
            "Epoch 92/200\n",
            "32/32 [==============================] - 0s 7ms/step - loss: 0.5403 - accuracy: 0.8030 - val_loss: 1.1300 - val_accuracy: 0.6892\n",
            "Epoch 93/200\n",
            "32/32 [==============================] - 0s 5ms/step - loss: 0.5976 - accuracy: 0.7741 - val_loss: 1.1468 - val_accuracy: 0.6813\n",
            "Epoch 94/200\n",
            "32/32 [==============================] - 0s 5ms/step - loss: 0.5324 - accuracy: 0.7986 - val_loss: 1.1847 - val_accuracy: 0.6892\n",
            "Epoch 95/200\n",
            "32/32 [==============================] - 0s 5ms/step - loss: 0.5742 - accuracy: 0.8016 - val_loss: 1.1640 - val_accuracy: 0.6853\n",
            "Epoch 96/200\n",
            "32/32 [==============================] - 0s 6ms/step - loss: 0.5497 - accuracy: 0.7911 - val_loss: 1.1440 - val_accuracy: 0.6853\n",
            "Epoch 97/200\n",
            "32/32 [==============================] - 0s 5ms/step - loss: 0.5167 - accuracy: 0.8299 - val_loss: 1.1614 - val_accuracy: 0.7052\n",
            "Epoch 98/200\n",
            "32/32 [==============================] - 0s 5ms/step - loss: 0.5872 - accuracy: 0.7994 - val_loss: 1.1927 - val_accuracy: 0.6892\n",
            "Epoch 99/200\n",
            "32/32 [==============================] - 0s 5ms/step - loss: 0.5725 - accuracy: 0.8026 - val_loss: 1.1567 - val_accuracy: 0.7052\n",
            "Epoch 100/200\n",
            "32/32 [==============================] - 0s 5ms/step - loss: 0.5634 - accuracy: 0.7771 - val_loss: 1.2208 - val_accuracy: 0.6932\n",
            "Epoch 101/200\n",
            "32/32 [==============================] - 0s 6ms/step - loss: 0.5739 - accuracy: 0.8082 - val_loss: 1.1578 - val_accuracy: 0.6773\n",
            "Epoch 102/200\n",
            "32/32 [==============================] - 0s 6ms/step - loss: 0.5320 - accuracy: 0.8024 - val_loss: 1.1618 - val_accuracy: 0.6853\n",
            "Epoch 103/200\n",
            "32/32 [==============================] - 0s 5ms/step - loss: 0.5594 - accuracy: 0.7923 - val_loss: 1.2009 - val_accuracy: 0.6932\n",
            "Epoch 104/200\n",
            "32/32 [==============================] - 0s 5ms/step - loss: 0.5185 - accuracy: 0.8130 - val_loss: 1.1750 - val_accuracy: 0.6773\n",
            "Epoch 105/200\n",
            "32/32 [==============================] - 0s 6ms/step - loss: 0.5711 - accuracy: 0.7882 - val_loss: 1.1372 - val_accuracy: 0.6773\n",
            "Epoch 106/200\n",
            "32/32 [==============================] - 0s 6ms/step - loss: 0.5132 - accuracy: 0.8112 - val_loss: 1.1890 - val_accuracy: 0.6813\n",
            "Epoch 107/200\n",
            "32/32 [==============================] - 0s 6ms/step - loss: 0.5040 - accuracy: 0.8181 - val_loss: 1.1580 - val_accuracy: 0.6892\n",
            "Epoch 108/200\n",
            "32/32 [==============================] - 0s 6ms/step - loss: 0.5709 - accuracy: 0.8224 - val_loss: 1.1719 - val_accuracy: 0.6693\n",
            "Epoch 109/200\n",
            "32/32 [==============================] - 0s 6ms/step - loss: 0.5004 - accuracy: 0.8129 - val_loss: 1.1491 - val_accuracy: 0.6813\n",
            "Epoch 110/200\n",
            "32/32 [==============================] - 0s 6ms/step - loss: 0.5130 - accuracy: 0.8076 - val_loss: 1.1855 - val_accuracy: 0.6813\n",
            "Epoch 111/200\n",
            "32/32 [==============================] - 0s 6ms/step - loss: 0.4857 - accuracy: 0.8264 - val_loss: 1.1760 - val_accuracy: 0.6813\n",
            "Epoch 112/200\n",
            "32/32 [==============================] - 0s 5ms/step - loss: 0.5494 - accuracy: 0.7935 - val_loss: 1.1788 - val_accuracy: 0.6813\n",
            "Epoch 113/200\n",
            "32/32 [==============================] - 0s 6ms/step - loss: 0.5601 - accuracy: 0.7897 - val_loss: 1.2014 - val_accuracy: 0.6733\n",
            "Epoch 114/200\n",
            "32/32 [==============================] - 0s 5ms/step - loss: 0.4900 - accuracy: 0.8335 - val_loss: 1.2175 - val_accuracy: 0.6653\n",
            "Epoch 115/200\n",
            "32/32 [==============================] - 0s 6ms/step - loss: 0.5730 - accuracy: 0.7820 - val_loss: 1.2192 - val_accuracy: 0.6813\n",
            "Epoch 116/200\n",
            "32/32 [==============================] - 0s 5ms/step - loss: 0.5426 - accuracy: 0.8135 - val_loss: 1.2618 - val_accuracy: 0.6693\n",
            "Epoch 117/200\n",
            "32/32 [==============================] - 0s 6ms/step - loss: 0.4744 - accuracy: 0.8384 - val_loss: 1.1917 - val_accuracy: 0.6892\n",
            "Epoch 118/200\n",
            "32/32 [==============================] - 0s 6ms/step - loss: 0.5027 - accuracy: 0.8214 - val_loss: 1.2655 - val_accuracy: 0.6773\n",
            "Epoch 119/200\n",
            "32/32 [==============================] - 0s 5ms/step - loss: 0.5162 - accuracy: 0.7983 - val_loss: 1.2622 - val_accuracy: 0.6773\n",
            "Epoch 120/200\n",
            "32/32 [==============================] - 0s 6ms/step - loss: 0.5630 - accuracy: 0.8033 - val_loss: 1.2959 - val_accuracy: 0.6853\n",
            "Epoch 121/200\n",
            "32/32 [==============================] - 0s 5ms/step - loss: 0.5021 - accuracy: 0.8084 - val_loss: 1.2772 - val_accuracy: 0.6733\n",
            "Epoch 122/200\n",
            "32/32 [==============================] - 0s 5ms/step - loss: 0.4817 - accuracy: 0.8145 - val_loss: 1.2848 - val_accuracy: 0.6693\n",
            "Epoch 123/200\n",
            "32/32 [==============================] - 0s 5ms/step - loss: 0.4774 - accuracy: 0.8433 - val_loss: 1.2678 - val_accuracy: 0.6773\n",
            "Epoch 124/200\n",
            "32/32 [==============================] - 0s 6ms/step - loss: 0.5146 - accuracy: 0.8130 - val_loss: 1.2644 - val_accuracy: 0.6733\n",
            "Epoch 125/200\n",
            "32/32 [==============================] - 0s 6ms/step - loss: 0.5296 - accuracy: 0.8221 - val_loss: 1.2555 - val_accuracy: 0.6733\n",
            "Epoch 126/200\n",
            "32/32 [==============================] - 0s 6ms/step - loss: 0.4820 - accuracy: 0.8188 - val_loss: 1.2211 - val_accuracy: 0.7012\n",
            "Epoch 127/200\n",
            "32/32 [==============================] - 0s 6ms/step - loss: 0.4588 - accuracy: 0.8239 - val_loss: 1.2182 - val_accuracy: 0.6813\n",
            "Epoch 128/200\n",
            "32/32 [==============================] - 0s 6ms/step - loss: 0.4923 - accuracy: 0.8163 - val_loss: 1.2206 - val_accuracy: 0.6972\n",
            "Epoch 129/200\n",
            "32/32 [==============================] - 0s 6ms/step - loss: 0.5063 - accuracy: 0.8181 - val_loss: 1.2814 - val_accuracy: 0.6853\n",
            "Epoch 130/200\n",
            "32/32 [==============================] - 0s 6ms/step - loss: 0.5075 - accuracy: 0.8146 - val_loss: 1.2740 - val_accuracy: 0.6813\n",
            "Epoch 131/200\n",
            "32/32 [==============================] - 0s 5ms/step - loss: 0.4680 - accuracy: 0.8245 - val_loss: 1.2732 - val_accuracy: 0.6733\n",
            "Epoch 132/200\n",
            "32/32 [==============================] - 0s 5ms/step - loss: 0.4650 - accuracy: 0.8390 - val_loss: 1.2545 - val_accuracy: 0.6693\n",
            "Epoch 133/200\n",
            "32/32 [==============================] - 0s 6ms/step - loss: 0.4927 - accuracy: 0.8220 - val_loss: 1.2555 - val_accuracy: 0.6972\n",
            "Epoch 134/200\n",
            "32/32 [==============================] - 0s 6ms/step - loss: 0.5173 - accuracy: 0.8081 - val_loss: 1.2552 - val_accuracy: 0.6892\n",
            "Epoch 135/200\n",
            "32/32 [==============================] - 0s 6ms/step - loss: 0.4760 - accuracy: 0.8217 - val_loss: 1.2486 - val_accuracy: 0.6892\n",
            "Epoch 136/200\n",
            "32/32 [==============================] - 0s 6ms/step - loss: 0.4471 - accuracy: 0.8344 - val_loss: 1.2447 - val_accuracy: 0.6972\n",
            "Epoch 137/200\n",
            "32/32 [==============================] - 0s 5ms/step - loss: 0.4712 - accuracy: 0.8518 - val_loss: 1.2286 - val_accuracy: 0.6853\n",
            "Epoch 138/200\n",
            "32/32 [==============================] - 0s 5ms/step - loss: 0.4778 - accuracy: 0.8154 - val_loss: 1.2514 - val_accuracy: 0.6773\n",
            "Epoch 139/200\n",
            "32/32 [==============================] - 0s 6ms/step - loss: 0.4223 - accuracy: 0.8382 - val_loss: 1.2667 - val_accuracy: 0.6733\n",
            "Epoch 140/200\n",
            "32/32 [==============================] - 0s 6ms/step - loss: 0.4972 - accuracy: 0.8035 - val_loss: 1.2752 - val_accuracy: 0.6693\n",
            "Epoch 141/200\n",
            "32/32 [==============================] - 0s 6ms/step - loss: 0.4863 - accuracy: 0.8326 - val_loss: 1.2380 - val_accuracy: 0.6972\n",
            "Epoch 142/200\n",
            "32/32 [==============================] - 0s 7ms/step - loss: 0.4477 - accuracy: 0.8552 - val_loss: 1.2109 - val_accuracy: 0.6932\n",
            "Epoch 143/200\n",
            "32/32 [==============================] - 0s 6ms/step - loss: 0.4479 - accuracy: 0.8436 - val_loss: 1.2602 - val_accuracy: 0.7012\n",
            "Epoch 144/200\n",
            "32/32 [==============================] - 0s 5ms/step - loss: 0.4647 - accuracy: 0.8398 - val_loss: 1.3137 - val_accuracy: 0.6813\n",
            "Epoch 145/200\n",
            "32/32 [==============================] - 0s 6ms/step - loss: 0.4437 - accuracy: 0.8544 - val_loss: 1.2912 - val_accuracy: 0.6813\n",
            "Epoch 146/200\n",
            "32/32 [==============================] - 0s 6ms/step - loss: 0.4558 - accuracy: 0.8353 - val_loss: 1.3124 - val_accuracy: 0.6773\n",
            "Epoch 147/200\n",
            "32/32 [==============================] - 0s 5ms/step - loss: 0.4646 - accuracy: 0.8320 - val_loss: 1.3255 - val_accuracy: 0.6813\n",
            "Epoch 148/200\n",
            "32/32 [==============================] - 0s 5ms/step - loss: 0.4525 - accuracy: 0.8494 - val_loss: 1.3169 - val_accuracy: 0.6733\n",
            "Epoch 149/200\n",
            "32/32 [==============================] - 0s 5ms/step - loss: 0.4751 - accuracy: 0.8413 - val_loss: 1.2938 - val_accuracy: 0.6733\n",
            "Epoch 150/200\n",
            "32/32 [==============================] - 0s 6ms/step - loss: 0.4621 - accuracy: 0.8290 - val_loss: 1.3154 - val_accuracy: 0.6773\n",
            "Epoch 151/200\n",
            "32/32 [==============================] - 0s 5ms/step - loss: 0.5028 - accuracy: 0.8253 - val_loss: 1.3206 - val_accuracy: 0.6693\n",
            "Epoch 152/200\n",
            "32/32 [==============================] - 0s 6ms/step - loss: 0.4852 - accuracy: 0.8191 - val_loss: 1.2599 - val_accuracy: 0.6853\n",
            "Epoch 153/200\n",
            "32/32 [==============================] - 0s 7ms/step - loss: 0.5020 - accuracy: 0.8076 - val_loss: 1.3101 - val_accuracy: 0.6773\n",
            "Epoch 154/200\n",
            "32/32 [==============================] - 0s 5ms/step - loss: 0.5355 - accuracy: 0.8111 - val_loss: 1.3046 - val_accuracy: 0.6773\n",
            "Epoch 155/200\n",
            "32/32 [==============================] - 0s 6ms/step - loss: 0.4850 - accuracy: 0.8079 - val_loss: 1.3299 - val_accuracy: 0.6733\n",
            "Epoch 156/200\n",
            "32/32 [==============================] - 0s 6ms/step - loss: 0.4353 - accuracy: 0.8453 - val_loss: 1.3828 - val_accuracy: 0.6693\n",
            "Epoch 157/200\n",
            "32/32 [==============================] - 0s 6ms/step - loss: 0.4297 - accuracy: 0.8344 - val_loss: 1.3033 - val_accuracy: 0.6653\n",
            "Epoch 158/200\n",
            "32/32 [==============================] - 0s 6ms/step - loss: 0.4405 - accuracy: 0.8442 - val_loss: 1.3303 - val_accuracy: 0.6773\n",
            "Epoch 159/200\n",
            "32/32 [==============================] - 0s 6ms/step - loss: 0.3931 - accuracy: 0.8633 - val_loss: 1.2881 - val_accuracy: 0.6773\n",
            "Epoch 160/200\n",
            "32/32 [==============================] - 0s 6ms/step - loss: 0.4266 - accuracy: 0.8408 - val_loss: 1.3517 - val_accuracy: 0.6693\n",
            "Epoch 161/200\n",
            "32/32 [==============================] - 0s 6ms/step - loss: 0.4562 - accuracy: 0.8437 - val_loss: 1.2864 - val_accuracy: 0.6813\n",
            "Epoch 162/200\n",
            "32/32 [==============================] - 0s 6ms/step - loss: 0.5235 - accuracy: 0.8007 - val_loss: 1.3201 - val_accuracy: 0.6813\n",
            "Epoch 163/200\n",
            "32/32 [==============================] - 0s 5ms/step - loss: 0.4208 - accuracy: 0.8625 - val_loss: 1.3135 - val_accuracy: 0.6773\n",
            "Epoch 164/200\n",
            "32/32 [==============================] - 0s 5ms/step - loss: 0.4448 - accuracy: 0.8328 - val_loss: 1.3011 - val_accuracy: 0.6733\n",
            "Epoch 165/200\n",
            "32/32 [==============================] - 0s 6ms/step - loss: 0.4544 - accuracy: 0.8402 - val_loss: 1.2780 - val_accuracy: 0.6892\n",
            "Epoch 166/200\n",
            "32/32 [==============================] - 0s 6ms/step - loss: 0.3885 - accuracy: 0.8468 - val_loss: 1.3350 - val_accuracy: 0.6853\n",
            "Epoch 167/200\n",
            "32/32 [==============================] - 0s 6ms/step - loss: 0.4495 - accuracy: 0.8333 - val_loss: 1.3635 - val_accuracy: 0.6932\n",
            "Epoch 168/200\n",
            "32/32 [==============================] - 0s 6ms/step - loss: 0.4238 - accuracy: 0.8386 - val_loss: 1.3548 - val_accuracy: 0.6892\n",
            "Epoch 169/200\n",
            "32/32 [==============================] - 0s 6ms/step - loss: 0.4500 - accuracy: 0.8336 - val_loss: 1.3603 - val_accuracy: 0.6892\n",
            "Epoch 170/200\n",
            "32/32 [==============================] - 0s 5ms/step - loss: 0.4509 - accuracy: 0.8311 - val_loss: 1.3643 - val_accuracy: 0.6853\n",
            "Epoch 171/200\n",
            "32/32 [==============================] - 0s 6ms/step - loss: 0.4390 - accuracy: 0.8415 - val_loss: 1.3605 - val_accuracy: 0.6853\n",
            "Epoch 172/200\n",
            "32/32 [==============================] - 0s 5ms/step - loss: 0.4037 - accuracy: 0.8650 - val_loss: 1.3886 - val_accuracy: 0.6892\n",
            "Epoch 173/200\n",
            "32/32 [==============================] - 0s 5ms/step - loss: 0.4008 - accuracy: 0.8547 - val_loss: 1.4320 - val_accuracy: 0.6853\n",
            "Epoch 174/200\n",
            "32/32 [==============================] - 0s 5ms/step - loss: 0.4514 - accuracy: 0.8173 - val_loss: 1.4074 - val_accuracy: 0.6892\n",
            "Epoch 175/200\n",
            "32/32 [==============================] - 0s 5ms/step - loss: 0.3932 - accuracy: 0.8619 - val_loss: 1.3903 - val_accuracy: 0.6932\n",
            "Epoch 176/200\n",
            "32/32 [==============================] - 0s 6ms/step - loss: 0.4582 - accuracy: 0.8286 - val_loss: 1.4161 - val_accuracy: 0.6892\n",
            "Epoch 177/200\n",
            "32/32 [==============================] - 0s 5ms/step - loss: 0.4262 - accuracy: 0.8414 - val_loss: 1.4219 - val_accuracy: 0.6932\n",
            "Epoch 178/200\n",
            "32/32 [==============================] - 0s 6ms/step - loss: 0.4014 - accuracy: 0.8578 - val_loss: 1.3581 - val_accuracy: 0.6892\n",
            "Epoch 179/200\n",
            "32/32 [==============================] - 0s 6ms/step - loss: 0.3863 - accuracy: 0.8671 - val_loss: 1.3591 - val_accuracy: 0.6853\n",
            "Epoch 180/200\n",
            "32/32 [==============================] - 0s 6ms/step - loss: 0.4581 - accuracy: 0.8519 - val_loss: 1.3593 - val_accuracy: 0.6892\n",
            "Epoch 181/200\n",
            "32/32 [==============================] - 0s 6ms/step - loss: 0.4245 - accuracy: 0.8363 - val_loss: 1.3545 - val_accuracy: 0.6813\n",
            "Epoch 182/200\n",
            "32/32 [==============================] - 0s 6ms/step - loss: 0.3746 - accuracy: 0.8451 - val_loss: 1.3844 - val_accuracy: 0.6972\n",
            "Epoch 183/200\n",
            "32/32 [==============================] - 0s 6ms/step - loss: 0.4164 - accuracy: 0.8447 - val_loss: 1.3335 - val_accuracy: 0.6932\n",
            "Epoch 184/200\n",
            "32/32 [==============================] - 0s 6ms/step - loss: 0.3691 - accuracy: 0.8571 - val_loss: 1.3376 - val_accuracy: 0.7012\n",
            "Epoch 185/200\n",
            "32/32 [==============================] - 0s 5ms/step - loss: 0.4531 - accuracy: 0.8154 - val_loss: 1.3752 - val_accuracy: 0.6892\n",
            "Epoch 186/200\n",
            "32/32 [==============================] - 0s 5ms/step - loss: 0.4053 - accuracy: 0.8552 - val_loss: 1.3735 - val_accuracy: 0.6813\n",
            "Epoch 187/200\n",
            "32/32 [==============================] - 0s 6ms/step - loss: 0.4364 - accuracy: 0.8521 - val_loss: 1.3232 - val_accuracy: 0.6892\n",
            "Epoch 188/200\n",
            "32/32 [==============================] - 0s 6ms/step - loss: 0.4608 - accuracy: 0.8252 - val_loss: 1.3604 - val_accuracy: 0.6813\n",
            "Epoch 189/200\n",
            "32/32 [==============================] - 0s 6ms/step - loss: 0.3820 - accuracy: 0.8548 - val_loss: 1.3849 - val_accuracy: 0.6813\n",
            "Epoch 190/200\n",
            "32/32 [==============================] - 0s 6ms/step - loss: 0.3654 - accuracy: 0.8683 - val_loss: 1.3459 - val_accuracy: 0.6733\n",
            "Epoch 191/200\n",
            "32/32 [==============================] - 0s 6ms/step - loss: 0.4290 - accuracy: 0.8439 - val_loss: 1.3544 - val_accuracy: 0.6653\n",
            "Epoch 192/200\n",
            "32/32 [==============================] - 0s 6ms/step - loss: 0.4316 - accuracy: 0.8393 - val_loss: 1.3495 - val_accuracy: 0.6972\n",
            "Epoch 193/200\n",
            "32/32 [==============================] - 0s 6ms/step - loss: 0.4574 - accuracy: 0.8280 - val_loss: 1.4264 - val_accuracy: 0.6813\n",
            "Epoch 194/200\n",
            "32/32 [==============================] - 0s 5ms/step - loss: 0.3294 - accuracy: 0.8752 - val_loss: 1.4515 - val_accuracy: 0.6733\n",
            "Epoch 195/200\n",
            "32/32 [==============================] - 0s 5ms/step - loss: 0.3886 - accuracy: 0.8499 - val_loss: 1.4825 - val_accuracy: 0.6733\n",
            "Epoch 196/200\n",
            "32/32 [==============================] - 0s 6ms/step - loss: 0.4167 - accuracy: 0.8294 - val_loss: 1.3770 - val_accuracy: 0.6813\n",
            "Epoch 197/200\n",
            "32/32 [==============================] - 0s 6ms/step - loss: 0.3643 - accuracy: 0.8623 - val_loss: 1.4326 - val_accuracy: 0.6773\n",
            "Epoch 198/200\n",
            "32/32 [==============================] - 0s 6ms/step - loss: 0.4262 - accuracy: 0.8353 - val_loss: 1.4406 - val_accuracy: 0.6853\n",
            "Epoch 199/200\n",
            "32/32 [==============================] - 0s 5ms/step - loss: 0.3772 - accuracy: 0.8529 - val_loss: 1.4681 - val_accuracy: 0.6892\n",
            "Epoch 200/200\n",
            "32/32 [==============================] - 0s 6ms/step - loss: 0.4340 - accuracy: 0.8324 - val_loss: 1.4886 - val_accuracy: 0.6853\n"
          ],
          "name": "stdout"
        }
      ]
    },
    {
      "cell_type": "code",
      "metadata": {
        "id": "mELCUNJPltAj"
      },
      "source": [
        "train_loss = history.history['loss']\n",
        "val_loss = history.history['val_loss']\n",
        "train_acc = history.history['accuracy']\n",
        "val_acc = history.history['val_accuracy']\n",
        "xc=range(200)\n"
      ],
      "execution_count": 38,
      "outputs": []
    },
    {
      "cell_type": "code",
      "metadata": {
        "id": "_SHJ4PdAl2vs",
        "colab": {
          "base_uri": "https://localhost:8080/",
          "height": 406
        },
        "outputId": "424527c4-b607-442d-8306-61166ba7fcb4"
      },
      "source": [
        "#Visualizing losses\n",
        "plt.figure(1, figsize=(7,5))\n",
        "plt.plot(xc,train_loss)\n",
        "plt.plot(xc,val_loss)\n",
        "plt.title('Model loss')\n",
        "plt.ylabel('loss')\n",
        "plt.xlabel('epoch')\n",
        "plt.legend(['train','validation'])\n",
        "plt.style.use(['classic'])"
      ],
      "execution_count": 39,
      "outputs": [
        {
          "output_type": "display_data",
          "data": {
            "image/png": "[encoded data removed]",
            "text/plain": [
              "<Figure size 560x400 with 1 Axes>"
            ]
          },
          "metadata": {
            "tags": []
          }
        }
      ]
    },
    {
      "cell_type": "code",
      "metadata": {
        "id": "QbM9XpwLl4a1",
        "colab": {
          "base_uri": "https://localhost:8080/",
          "height": 406
        },
        "outputId": "888cf3c1-f735-47fa-8dbc-9d037bb601f1"
      },
      "source": [
        "#Visualizing accuracies\n",
        "plt.figure(2, figsize=(7,5))\n",
        "plt.plot(xc,train_acc)\n",
        "plt.plot(xc,val_acc)\n",
        "plt.title('Model Accuracy')\n",
        "plt.ylabel('accuracy')\n",
        "plt.xlabel('epoch')\n",
        "plt.legend(['train','validation'],loc=3)\n",
        "plt.style.use(['classic'])"
      ],
      "execution_count": 40,
      "outputs": [
        {
          "output_type": "display_data",
          "data": {
            "image/png": "[encoded data removed]",
            "text/plain": [
              "<Figure size 560x400 with 1 Axes>"
            ]
          },
          "metadata": {
            "tags": []
          }
        }
      ]
    },
    {
      "cell_type": "code",
      "metadata": {
        "id": "5xfXy8z8uzNQ"
      },
      "source": [
        "#test \n",
        "x = np.array(['237','Red',\t'300 x 300 mm',\t'Bedroom',\t'Red','Fully Vitrified Full Body Porcelain','Anti Slip']).reshape((-1,1))"
      ],
      "execution_count": 30,
      "outputs": []
    },
    {
      "cell_type": "code",
      "metadata": {
        "id": "onVPAvIul8jj"
      },
      "source": [
        "test = [int(x[0])/max_price]\n",
        "for i in range(1,7): #Encoding the test input same as model input\n",
        "  encoded = encoders[i].transform(np.array(x[i]).reshape((-1,1))).toarray().flatten()\n",
        "  test.extend(encoded)\n",
        "test = np.array(test).reshape((1,175))\n"
      ],
      "execution_count": 31,
      "outputs": []
    },
    {
      "cell_type": "code",
      "metadata": {
        "id": "XVRS4a86sfDD"
      },
      "source": [
        "res = model.predict(test) #predict"
      ],
      "execution_count": 32,
      "outputs": []
    },
    {
      "cell_type": "code",
      "metadata": {
        "id": "qJSKeMJq0q2t",
        "colab": {
          "base_uri": "https://localhost:8080/"
        },
        "outputId": "451ea30a-cc84-42db-821b-6cc5eb0fb802"
      },
      "source": [
        "np.sort(data['Tile_Name'].unique())[np.argsort(res.flatten())[-1:-5:-1]] #select the predicted names from tile name list"
      ],
      "execution_count": 33,
      "outputs": [
        {
          "output_type": "execute_result",
          "data": {
            "text/plain": [
              "array(['Amberese', 'Wild', 'Australian Stone', 'Zambeze'], dtype=object)"
            ]
          },
          "metadata": {
            "tags": []
          },
          "execution_count": 33
        }
      ]
    },
    {
      "cell_type": "code",
      "metadata": {
        "id": "n0ILPxQh4NS1"
      },
      "source": [
        "model.save('trained_model.h5') #Save model"
      ],
      "execution_count": null,
      "outputs": []
    }
  ]
}